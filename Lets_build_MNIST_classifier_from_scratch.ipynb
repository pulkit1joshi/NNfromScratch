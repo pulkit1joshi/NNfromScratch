{
  "nbformat": 4,
  "nbformat_minor": 0,
  "metadata": {
    "colab": {
      "name": "Lets build MNIST classifier from scratch.ipynb",
      "provenance": [],
      "collapsed_sections": [],
      "include_colab_link": true
    },
    "kernelspec": {
      "name": "python3",
      "display_name": "Python 3"
    }
  },
  "cells": [
    {
      "cell_type": "markdown",
      "metadata": {
        "id": "view-in-github",
        "colab_type": "text"
      },
      "source": [
        "<a href=\"https://colab.research.google.com/github/tobehonest/NNfromScratch/blob/master/Lets_build_MNIST_classifier_from_scratch.ipynb\" target=\"_parent\"><img src=\"https://colab.research.google.com/assets/colab-badge.svg\" alt=\"Open In Colab\"/></a>"
      ]
    },
    {
      "cell_type": "markdown",
      "metadata": {
        "id": "wQEfxcM4Kc6v",
        "colab_type": "text"
      },
      "source": [
        "***Lets Build Neural Network From Scratch***\n",
        "\n",
        "\n",
        "*   **ReLU** layer (or any other non-linearity you want)\n",
        "*   **Dense** layer - a fully-connected layer,  f(**X**)=**WX + b** \n",
        "*   Loss function - **crossentropy**\n",
        "*   **Backprop algorithm** - a stochastic gradient descent with backpropageted gradients\n"
      ]
    },
    {
      "cell_type": "code",
      "metadata": {
        "id": "byoO__CfdbsI",
        "colab_type": "code",
        "colab": {}
      },
      "source": [
        "import numpy as np"
      ],
      "execution_count": 0,
      "outputs": []
    },
    {
      "cell_type": "markdown",
      "metadata": {
        "id": "MWyHckckMQ5T",
        "colab_type": "text"
      },
      "source": [
        "Class : Layer\n",
        "Functions :\n",
        "1. Forward - Outputs input\n",
        "2. Backward - Outputs Gradient\n"
      ]
    },
    {
      "cell_type": "code",
      "metadata": {
        "id": "uASolDdnTrcb",
        "colab_type": "code",
        "colab": {}
      },
      "source": [
        "class Layer:\n",
        "  def __init__(self):\n",
        "    pass\n",
        "  def forward(self,input):\n",
        "    return input\n",
        "  def backward(self,input,grad):\n",
        "    \n",
        "    #Create a diagonal matrix of size input\n",
        "    n_units = input.shape[1]\n",
        "    diagonal_input = np.eye(input)\n",
        "    #Return dot product of grad with input diagonal\n",
        "    return np.dot(grad,diagonal_input)"
      ],
      "execution_count": 0,
      "outputs": []
    },
    {
      "cell_type": "markdown",
      "metadata": {
        "id": "NFjvB0NjZxlC",
        "colab_type": "text"
      },
      "source": [
        "Relu Layer:\n",
        "1. Forward : max(0,input)\n",
        "2. Backward : grad_relu*grad_output"
      ]
    },
    {
      "cell_type": "code",
      "metadata": {
        "id": "2NcyxYoVaFOO",
        "colab_type": "code",
        "colab": {}
      },
      "source": [
        "class ReLu(Layer):\n",
        "  def __init__(self):\n",
        "    pass\n",
        "  def forward(self,input):\n",
        "    return np.maximum(0,input)\n",
        "  def backward(self,input,grad_output):\n",
        "    grad_relu = input > 0\n",
        "    return grad_relu*grad_output"
      ],
      "execution_count": 0,
      "outputs": []
    },
    {
      "cell_type": "markdown",
      "metadata": {
        "id": "dFmv_exRbseX",
        "colab_type": "text"
      },
      "source": [
        "Dense Layer: \n",
        "\n",
        "1.   Forward : weights*input + bias\n",
        "2.   Backward : grad_input = grad_output*w - return this\n",
        "                grad_weights = input*grad_output - to find new weights\n",
        "                weights = wieghts - alpha*grad_weights\n",
        "\n"
      ]
    },
    {
      "cell_type": "code",
      "metadata": {
        "id": "sCJCQdOgfy3v",
        "colab_type": "code",
        "colab": {}
      },
      "source": [
        "class Dense(Layer):\n",
        "  def __init__(self,input_size,output_size,alpha=0.01):\n",
        "    self.alpha = alpha\n",
        "    self.weights = np.random.randn(input_size, output_size)*0.01\n",
        "    self.bias = np.zeros(output_size)\n",
        "  def forward(self,input):\n",
        "    out = np.dot(input,self.weights)\n",
        "    return out + self.bias\n",
        "  def backward(self,input,grad_output):\n",
        "    grad_input = np.dot(grad_output,self.weights.T)\n",
        "    grad_weight = np.dot(input.T,grad_output)\n",
        "    grad_biases = grad_output.mean(axis=0)\n",
        "    \n",
        "    self.weights = self.weights - self.alpha*grad_weight\n",
        "    self.bias = self.bias - self.alpha*grad_biases\n",
        "    return grad_input"
      ],
      "execution_count": 0,
      "outputs": []
    },
    {
      "cell_type": "code",
      "metadata": {
        "id": "y25Pt-k2hNDq",
        "colab_type": "code",
        "colab": {}
      },
      "source": [
        "def softmax_crossentropy_with_logits(logits,reference_answers):\n",
        "    \"\"\"Compute crossentropy from logits[batch,n_classes] and ids of correct answers\"\"\"\n",
        "    logits_for_answers = logits[np.arange(len(logits)),reference_answers]\n",
        "    \n",
        "    xentropy = - logits_for_answers + np.log(np.sum(np.exp(logits),axis=-1))\n",
        "    \n",
        "    return xentropy\n",
        "\n",
        "def grad_softmax_crossentropy_with_logits(logits,reference_answers):\n",
        "    \"\"\"Compute crossentropy gradient from logits[batch,n_classes] and ids of correct answers\"\"\"\n",
        "    ones_for_answers = np.zeros_like(logits)\n",
        "    ones_for_answers[np.arange(len(logits)),reference_answers] = 1\n",
        "    \n",
        "    softmax = np.exp(logits) / np.exp(logits).sum(axis=-1,keepdims=True)\n",
        "    \n",
        "    return (- ones_for_answers + softmax) / logits.shape[0]"
      ],
      "execution_count": 0,
      "outputs": []
    },
    {
      "cell_type": "code",
      "metadata": {
        "id": "wIKK63H9hRac",
        "colab_type": "code",
        "colab": {}
      },
      "source": [
        "def forward(network,X):\n",
        "  activations = []\n",
        "  input = X\n",
        "  for layer in network:\n",
        "    activations.append(layer.forward(input))\n",
        "    input = activations[-1]\n",
        "  return activations"
      ],
      "execution_count": 0,
      "outputs": []
    },
    {
      "cell_type": "code",
      "metadata": {
        "id": "GcgFaVmYhgeC",
        "colab_type": "code",
        "colab": {}
      },
      "source": [
        "def predict(network,X):\n",
        "  return forward(network,X)[-1].argmax(axis=-1)"
      ],
      "execution_count": 0,
      "outputs": []
    },
    {
      "cell_type": "code",
      "metadata": {
        "id": "Mgg2WwwPiES4",
        "colab_type": "code",
        "colab": {}
      },
      "source": [
        "def train_network(network,X,y):\n",
        "   \n",
        "    layer_activations = forward(network,X)\n",
        "    layer_inputs = [X]+layer_activations\n",
        "    logits = layer_activations[-1]\n",
        "    loss = softmax_crossentropy_with_logits(logits,y)\n",
        "    loss_grad = grad_softmax_crossentropy_with_logits(logits,y)\n",
        "    for layer_i in range(len(network))[::-1]:\n",
        "        layer = network[layer_i]\n",
        "        loss_grad = layer.backward(layer_inputs[layer_i],loss_grad) #grad w.r.t. input, also weight updates\n",
        "        \n",
        "    return np.mean(loss)"
      ],
      "execution_count": 0,
      "outputs": []
    },
    {
      "cell_type": "code",
      "metadata": {
        "id": "rGDyhe7kYv96",
        "colab_type": "code",
        "outputId": "d2cd4b4d-5c8b-4ce4-899e-da6082c80205",
        "colab": {
          "base_uri": "https://localhost:8080/",
          "height": 34
        }
      },
      "source": [
        "from google.colab import drive\n",
        "drive.mount('/content/gdrive')"
      ],
      "execution_count": 438,
      "outputs": [
        {
          "output_type": "stream",
          "text": [
            "Drive already mounted at /content/gdrive; to attempt to forcibly remount, call drive.mount(\"/content/gdrive\", force_remount=True).\n"
          ],
          "name": "stdout"
        }
      ]
    },
    {
      "cell_type": "code",
      "metadata": {
        "id": "bAQrDyXHdy6P",
        "colab_type": "code",
        "outputId": "b8fdba49-8751-45a1-b9d1-31af3ccb6be4",
        "colab": {
          "base_uri": "https://localhost:8080/",
          "height": 84
        }
      },
      "source": [
        "from tensorflow.examples.tutorials.mnist import input_data\n",
        "input = input_data.read_data_sets('/content/gdrive/My Drive/DATASETS/mnist')"
      ],
      "execution_count": 439,
      "outputs": [
        {
          "output_type": "stream",
          "text": [
            "Extracting /content/gdrive/My Drive/DATASETS/mnist/train-images-idx3-ubyte.gz\n",
            "Extracting /content/gdrive/My Drive/DATASETS/mnist/train-labels-idx1-ubyte.gz\n",
            "Extracting /content/gdrive/My Drive/DATASETS/mnist/t10k-images-idx3-ubyte.gz\n",
            "Extracting /content/gdrive/My Drive/DATASETS/mnist/t10k-labels-idx1-ubyte.gz\n"
          ],
          "name": "stdout"
        }
      ]
    },
    {
      "cell_type": "code",
      "metadata": {
        "id": "w81y43LTd2kQ",
        "colab_type": "code",
        "colab": {}
      },
      "source": [
        "train = input.train.images\n",
        "train_y = input.train.labels"
      ],
      "execution_count": 0,
      "outputs": []
    },
    {
      "cell_type": "code",
      "metadata": {
        "id": "nv_yZULjd5H3",
        "colab_type": "code",
        "colab": {}
      },
      "source": [
        "test = input.test.images\n",
        "test_y = input.test.labels"
      ],
      "execution_count": 0,
      "outputs": []
    },
    {
      "cell_type": "code",
      "metadata": {
        "id": "6eo1xm2al-Ce",
        "colab_type": "code",
        "colab": {}
      },
      "source": [
        "network = []\n",
        "network.append(Dense(train.shape[1],100,0.1))\n",
        "network.append(ReLu())\n",
        "network.append(Dense(100,200,0.1))\n",
        "network.append(ReLu())\n",
        "network.append(Dense(200,10,0.1))"
      ],
      "execution_count": 0,
      "outputs": []
    },
    {
      "cell_type": "code",
      "metadata": {
        "id": "f87x3oUBmdRz",
        "colab_type": "code",
        "outputId": "58973cb6-39fc-4bb4-b5d2-dd8c91564388",
        "colab": {
          "base_uri": "https://localhost:8080/",
          "height": 390
        }
      },
      "source": [
        "import matplotlib.pyplot as plt\n",
        "%matplotlib inline\n",
        "\n",
        "plt.figure(figsize=[6,6])\n",
        "for i in range(4):\n",
        "    plt.subplot(2,2,i+1)\n",
        "    plt.title(\"Label: %i\"%train_y[i])\n",
        "    plt.imshow(train[i].reshape([28,28]),cmap='gray');"
      ],
      "execution_count": 443,
      "outputs": [
        {
          "output_type": "display_data",
          "data": {
            "image/png": "[encoded data removed]",
            "text/plain": [
              "<Figure size 432x432 with 4 Axes>"
            ]
          },
          "metadata": {
            "tags": []
          }
        }
      ]
    },
    {
      "cell_type": "code",
      "metadata": {
        "id": "POCpIa0umhEG",
        "colab_type": "code",
        "outputId": "018a7c17-1096-467e-f9f3-e836e27afbf7",
        "colab": {
          "base_uri": "https://localhost:8080/",
          "height": 34
        }
      },
      "source": [
        "train_log = []\n",
        "val_log = []\n",
        "for epoch in range(10):\n",
        "  print(\"This is epoch {}\".format(epoch))\n",
        "  for x_batch,y_batch in iterate_minibatches(train,train_y,batchsize=500,shuffle=True):\n",
        "    train_network(network,train,train_y)\n",
        "    train_log.append(np.mean(predict(network,train)==train_y))\n",
        "    val_log.append(np.mean(predict(network,test)==test_y))\n",
        "  print(\"Epoch\",epoch)\n",
        "  print(\"Train accuracy:\",train_log[-1])\n",
        "  print(\"Val accuracy:\",val_log[-1])\n",
        "  plt.plot(train_log,label='train accuracy')\n",
        "  plt.legend(loc='best')\n",
        "  plt.plot(val_log,label='val accuracy')\n",
        "  plt.grid()\n",
        "  plt.show()\n",
        "    \n",
        "\n"
      ],
      "execution_count": 0,
      "outputs": [
        {
          "output_type": "stream",
          "text": [
            "This is epoch 0\n"
          ],
          "name": "stdout"
        }
      ]
    },
    {
      "cell_type": "code",
      "metadata": {
        "id": "ZuZUtltxnMZI",
        "colab_type": "code",
        "colab": {
          "base_uri": "https://localhost:8080/",
          "height": 34
        },
        "outputId": "08e838d8-1b09-4e19-e566-0e11c6952c93"
      },
      "source": [
        "train.shape\n",
        "    "
      ],
      "execution_count": 449,
      "outputs": [
        {
          "output_type": "execute_result",
          "data": {
            "text/plain": [
              "(55000, 784)"
            ]
          },
          "metadata": {
            "tags": []
          },
          "execution_count": 449
        }
      ]
    },
    {
      "cell_type": "code",
      "metadata": {
        "id": "oKNqmSO-pHiA",
        "colab_type": "code",
        "colab": {}
      },
      "source": [
        "train.shape"
      ],
      "execution_count": 0,
      "outputs": []
    },
    {
      "cell_type": "code",
      "metadata": {
        "id": "dBbNRdNztIwT",
        "colab_type": "code",
        "colab": {}
      },
      "source": [
        "def iterate_minibatches(inputs, targets, batchsize, shuffle=False):\n",
        "    assert len(inputs) == len(targets)\n",
        "    if shuffle:\n",
        "        indices = np.random.permutation(len(inputs))\n",
        "    for start_idx in range(0, len(inputs) - batchsize + 1, batchsize):\n",
        "        if shuffle:\n",
        "            excerpt = indices[start_idx:start_idx + batchsize]\n",
        "        else:\n",
        "            excerpt = slice(start_idx, start_idx + batchsize)\n",
        "        yield inputs[excerpt], targets[excerpt]"
      ],
      "execution_count": 0,
      "outputs": []
    },
    {
      "cell_type": "code",
      "metadata": {
        "id": "D11j7mvQwOvS",
        "colab_type": "code",
        "colab": {}
      },
      "source": [
        ""
      ],
      "execution_count": 0,
      "outputs": []
    },
    {
      "cell_type": "code",
      "metadata": {
        "id": "2Q7DykNJwT8L",
        "colab_type": "code",
        "colab": {}
      },
      "source": [
        ""
      ],
      "execution_count": 0,
      "outputs": []
    }
  ]
}